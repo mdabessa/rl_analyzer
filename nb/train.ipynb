{
 "cells": [
  {
   "cell_type": "code",
   "execution_count": 1,
   "metadata": {},
   "outputs": [],
   "source": [
    "import os\n",
    "import numpy as np\n",
    "import pandas as pd\n",
    "from joblib import dump\n",
    "\n",
    "from sklearn.ensemble import RandomForestRegressor\n",
    "from sklearn.model_selection import train_test_split\n",
    "from sklearn import metrics"
   ]
  },
  {
   "cell_type": "markdown",
   "metadata": {},
   "source": [
    "# Dataset"
   ]
  },
  {
   "cell_type": "code",
   "execution_count": 2,
   "metadata": {},
   "outputs": [
    {
     "name": "stdout",
     "output_type": "stream",
     "text": [
      "ranked-doubles shape: (28494, 96)\n",
      "ranked-duels shape: (3394, 96)\n",
      "ranked-standard shape: (17542, 96)\n"
     ]
    }
   ],
   "source": [
    "df = pd.read_csv('../data/train.csv')\n",
    "\n",
    "types = df['playlist_id'].unique()\n",
    "\n",
    "data = {}\n",
    "for key in types:\n",
    "    data[key] = df[df['playlist_id'] == key].copy()\n",
    "    print(f'{key} shape: {data[key].shape}')"
   ]
  },
  {
   "cell_type": "markdown",
   "metadata": {},
   "source": [
    "## Feature Selection"
   ]
  },
  {
   "cell_type": "code",
   "execution_count": 3,
   "metadata": {},
   "outputs": [
    {
     "name": "stdout",
     "output_type": "stream",
     "text": [
      "ranked-doubles has 84 stats columns\n",
      "\tDropping stats.positioning.goals_against_while_last_defender from ranked-doubles due to 30.27% null values\n",
      "ranked-doubles has 83 stats columns after dropping nulls\n",
      "ranked-duels has 84 stats columns\n",
      "\tDropping stats.positioning.avg_distance_to_mates from ranked-duels due to 100.00% null values\n",
      "\tDropping stats.positioning.goals_against_while_last_defender from ranked-duels due to 9.19% null values\n",
      "ranked-duels has 82 stats columns after dropping nulls\n",
      "ranked-standard has 84 stats columns\n",
      "\tDropping stats.positioning.goals_against_while_last_defender from ranked-standard due to 47.41% null values\n",
      "ranked-standard has 83 stats columns after dropping nulls\n"
     ]
    }
   ],
   "source": [
    "# drop stats columns that are inconsistent\n",
    "max_nulls = 0.02 # drop columns with more than 2% null values\n",
    "\n",
    "for key in data:\n",
    "    cols_ = [c for c in data[key].columns if c.startswith('stats')]\n",
    "    print(f'{key} has {len(cols_)} stats columns')\n",
    "\n",
    "    # rate of null values in each column\n",
    "    nulls = data[key][cols_].isnull().sum() / len(data[key])\n",
    "    nulls_ = nulls[nulls > max_nulls].index\n",
    "    for col in nulls_:\n",
    "        print(f'\\tDropping {col} from {key} due to {nulls[col]:.2%} null values')\n",
    "\n",
    "    data[key].drop(nulls_, axis=1, inplace=True)\n",
    "\n",
    "    cols_ = [c for c in data[key].columns if c.startswith('stats')]\n",
    "    print(f'{key} has {len(cols_)} stats columns after dropping nulls')\n"
   ]
  },
  {
   "cell_type": "code",
   "execution_count": 4,
   "metadata": {},
   "outputs": [],
   "source": [
    "for key in data:\n",
    "    data[key].fillna(0, inplace=True)"
   ]
  },
  {
   "cell_type": "markdown",
   "metadata": {},
   "source": [
    "# Train"
   ]
  },
  {
   "cell_type": "code",
   "execution_count": 5,
   "metadata": {},
   "outputs": [
    {
     "name": "stdout",
     "output_type": "stream",
     "text": [
      "Training ranked-doubles...\n",
      "\tranked-doubles MAE: 2.2744104435710275\n",
      "\tranked-doubles MSE: 9.787269792251545\n",
      "\tranked-doubles RMSE: 3.1284612499200857\n",
      "\tranked-doubles R2 Score: 0.7509988440114177\n",
      "\tranked-doubles Explained Variance Score: 0.751222466187124\n",
      "\tranked-doubles Max Error: 17.7\n",
      "\tranked-doubles Accuracy: 0.1624087591240876\n",
      "Training ranked-duels...\n",
      "\tranked-duels MAE: 2.1500588928150766\n",
      "\tranked-duels MSE: 8.65432273262662\n",
      "\tranked-duels RMSE: 2.94182302877427\n",
      "\tranked-duels R2 Score: 0.8169305010568828\n",
      "\tranked-duels Explained Variance Score: 0.8172881901293786\n",
      "\tranked-duels Max Error: 18.7\n",
      "\tranked-duels Accuracy: 0.1625441696113074\n",
      "Training ranked-standard...\n",
      "\tranked-standard MAE: 2.139420884632923\n",
      "\tranked-standard MSE: 8.015629274965802\n",
      "\tranked-standard RMSE: 2.8311886682038345\n",
      "\tranked-standard R2 Score: 0.7394585544145678\n",
      "\tranked-standard Explained Variance Score: 0.7404538651979369\n",
      "\tranked-standard Max Error: 17.5\n",
      "\tranked-standard Accuracy: 0.16233470132238942\n"
     ]
    }
   ],
   "source": [
    "headers = [\n",
    "    'replay_id',\n",
    "    'player_id',\n",
    "    'date',\n",
    "    'playlist_id',\n",
    "    'team',\n",
    "    'id',\n",
    "]\n",
    "\n",
    "denylist = [\n",
    "    'tier',\n",
    "]\n",
    "\n",
    "models = {}\n",
    "for key in data:\n",
    "    print(f'Training {key}...')\n",
    "    cols = [c for c in data[key].columns if c not in headers + denylist]\n",
    "    \n",
    "    y = data[key]['tier']\n",
    "    X = data[key][cols]\n",
    "\n",
    "    X_train, X_test, y_train, y_test = train_test_split(X, y, test_size=0.25)\n",
    "    model = RandomForestRegressor(n_estimators=10, n_jobs=-1)\n",
    "    model.fit(X_train, y_train)\n",
    "\n",
    "    y_pred = model.predict(X_test)\n",
    "\n",
    "    print(f'\\t{key} MAE: {metrics.mean_absolute_error(y_test, y_pred)}')\n",
    "    print(f'\\t{key} MSE: {metrics.mean_squared_error(y_test, y_pred)}')\n",
    "    print(f'\\t{key} RMSE: {np.sqrt(metrics.mean_squared_error(y_test, y_pred))}')\n",
    "    print(f'\\t{key} R2 Score: {metrics.r2_score(y_test, y_pred)}')\n",
    "    print(f'\\t{key} Explained Variance Score: {metrics.explained_variance_score(y_test, y_pred)}')\n",
    "    print(f'\\t{key} Max Error: {metrics.max_error(y_test, y_pred)}')\n",
    "    print(f'\\t{key} Accuracy: {metrics.accuracy_score(y_test, y_pred.round())}') \n",
    "\n",
    "    models[key] = {\n",
    "        'model': model,\n",
    "        'features': cols,\n",
    "    }"
   ]
  },
  {
   "cell_type": "code",
   "execution_count": 6,
   "metadata": {},
   "outputs": [],
   "source": [
    "for key in models:\n",
    "    dump(models[key], f'../models/{key}.joblib')"
   ]
  }
 ],
 "metadata": {
  "kernelspec": {
   "display_name": "Python 3",
   "language": "python",
   "name": "python3"
  },
  "language_info": {
   "codemirror_mode": {
    "name": "ipython",
    "version": 3
   },
   "file_extension": ".py",
   "mimetype": "text/x-python",
   "name": "python",
   "nbconvert_exporter": "python",
   "pygments_lexer": "ipython3",
   "version": "3.12.0"
  }
 },
 "nbformat": 4,
 "nbformat_minor": 2
}
