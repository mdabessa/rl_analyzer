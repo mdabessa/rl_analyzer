{
 "cells": [
  {
   "cell_type": "code",
   "execution_count": null,
   "metadata": {},
   "outputs": [],
   "source": [
    "import os\n",
    "import sys\n",
    "\n",
    "sys.path.append(os.path.join(os.path.dirname(sys.path[0])))\n",
    "\n",
    "from environs import Env\n",
    "import pymongo\n",
    "import requests\n",
    "from tqdm import tqdm\n",
    "import time\n",
    "from itertools import product"
   ]
  },
  {
   "cell_type": "code",
   "execution_count": null,
   "metadata": {},
   "outputs": [],
   "source": [
    "SEASONS = range(14,16) # current season f18\n",
    "PLAYLIST = ['ranked-doubles', 'ranked-duels', 'ranked-standard']\n",
    "COUNT = 200\n",
    "TIERS = range(0, 22) #(highest tier = 21)\n",
    "PRO = 'true'\n",
    "\n",
    "RATE_LIMIT_PER_HOUR = 490\n",
    "\n",
    "env = Env()\n",
    "env.read_env('.env')\n",
    "TOKEN = os.environ[\"TEST_TOKEN\"] # Ballchasing token\n",
    "HEADERS = {\"Authorization\": TOKEN}\n",
    "URL = \"https://ballchasing.com/api/replays\""
   ]
  },
  {
   "cell_type": "code",
   "execution_count": null,
   "metadata": {},
   "outputs": [],
   "source": [
    "cluster = pymongo.MongoClient(\"mongodb://localhost:27017/\")\n",
    "database = cluster.get_database(\"rl_replays\")"
   ]
  },
  {
   "cell_type": "code",
   "execution_count": null,
   "metadata": {},
   "outputs": [],
   "source": [
    "ranks = [\n",
    "    \"bronze-1\",\n",
    "    \"bronze-2\",\n",
    "    \"bronze-3\",\n",
    "    \"silver-1\",\n",
    "    \"silver-2\",\n",
    "    \"silver-3\",\n",
    "    \"gold-1\",\n",
    "    \"gold-2\",\n",
    "    \"gold-3\",\n",
    "    \"platinum-1\",\n",
    "    \"platinum-2\",\n",
    "    \"platinum-3\",\n",
    "    \"diamond-1\",\n",
    "    \"diamond-2\",\n",
    "    \"diamond-3\",\n",
    "    \"champion-1\",\n",
    "    \"champion-2\",\n",
    "    \"champion-3\",\n",
    "    \"grand-champion-1\",\n",
    "    \"grand-champion-2\",\n",
    "    \"grand-champion-3\",\n",
    "    \"supersonic-legend\"\n",
    "]"
   ]
  },
  {
   "cell_type": "code",
   "execution_count": null,
   "metadata": {},
   "outputs": [],
   "source": [
    "SEASONS = [f'f{x}' for x in SEASONS if x != 0]"
   ]
  },
  {
   "cell_type": "code",
   "execution_count": null,
   "metadata": {},
   "outputs": [],
   "source": [
    "file = 'iteration.txt'\n",
    "if os.path.exists(file):\n",
    "    with open(file, 'r') as f:\n",
    "        iteration = int(f.read())\n",
    "else:\n",
    "    iteration = 0"
   ]
  },
  {
   "cell_type": "code",
   "execution_count": null,
   "metadata": {},
   "outputs": [],
   "source": [
    "def print_time(start_time, pct):\n",
    "    if pct == 0 or pct == 1:\n",
    "        return\n",
    "    \n",
    "    elapsed_time = time.time() - start_time\n",
    "    remaining_time = elapsed_time / pct * (1 - pct)\n",
    "    \n",
    "    elapsed_time_str = time.strftime(\"%H:%M:%S\", time.gmtime(elapsed_time))\n",
    "    remaining_time_str = time.strftime(\"%H:%M:%S\", time.gmtime(remaining_time))\n",
    "    print(f\"Elapsed time: {elapsed_time_str}, Remaining time: {remaining_time_str} ({pct:.2%})\")\n"
   ]
  },
  {
   "cell_type": "code",
   "execution_count": null,
   "metadata": {},
   "outputs": [],
   "source": [
    "delay = 3600 / RATE_LIMIT_PER_HOUR\n",
    "prod = product(SEASONS, PLAYLIST, TIERS)\n",
    "start = time.time()\n",
    "for i, (season, playlist, tier) in enumerate(prod):\n",
    "    if i < iteration:\n",
    "        continue\n",
    "    \n",
    "    rank = ranks[tier]\n",
    "    print_time(start, i / (len(SEASONS) * len(PLAYLIST) * len(TIERS)))\n",
    "    print(f\"Starting {playlist} {season} {rank}\")\n",
    "\n",
    "    filters = {\"count\": COUNT, \"playlist\": PLAYLIST, \"min-rank\": rank, \"max-rank\": rank, 'season': season, 'pro': PRO}\n",
    "\n",
    "    response = requests.get(URL, headers=HEADERS, params=filters)\n",
    "    \n",
    "    if response.status_code != 200:\n",
    "        print(f\"Error: {response.status_code}\")\n",
    "        break\n",
    "\n",
    "    replays = response.json()[\"list\"]\n",
    "    data = tqdm(replays, desc=f\"{rank}[{tier}]\")\n",
    "    for replay in data:\n",
    "        replay_url = replay[\"link\"]\n",
    "\n",
    "        response = requests.get(replay_url, headers=HEADERS)\n",
    "        if response.status_code != 200: continue\n",
    "\n",
    "        replay_data = response.json()\n",
    "        replay_id = replay_data[\"id\"]\n",
    "\n",
    "        if database.replays.find_one({\"id\": replay_id}): continue\n",
    "\n",
    "        database.replays.insert_one(replay_data)\n",
    "        time.sleep(delay)\n",
    "\n",
    "    print(f\"Finished {rank}[{tier}] rank\")\n",
    "    \n",
    "    with open(file, 'w') as f:\n",
    "        f.write(str(i))\n",
    "\n",
    "    time.sleep(delay)\n",
    "\n",
    "\n",
    "os.remove(file)\n",
    "print(\"Finished\")"
   ]
  }
 ],
 "metadata": {
  "kernelspec": {
   "display_name": ".venv",
   "language": "python",
   "name": "python3"
  },
  "language_info": {
   "codemirror_mode": {
    "name": "ipython",
    "version": 3
   },
   "file_extension": ".py",
   "mimetype": "text/x-python",
   "name": "python",
   "nbconvert_exporter": "python",
   "pygments_lexer": "ipython3",
   "version": "3.10.11"
  }
 },
 "nbformat": 4,
 "nbformat_minor": 2
}
