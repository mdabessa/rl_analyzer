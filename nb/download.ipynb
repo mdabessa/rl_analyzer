{
 "cells": [
  {
   "cell_type": "code",
   "execution_count": 38,
   "metadata": {},
   "outputs": [],
   "source": [
    "import os\n",
    "import sys\n",
    "\n",
    "sys.path.append(os.path.join(os.path.dirname(sys.path[0])))\n",
    "\n",
    "from environs import Env\n",
    "import pymongo\n",
    "import requests\n",
    "from tqdm import tqdm\n",
    "import time"
   ]
  },
  {
   "cell_type": "code",
   "execution_count": 39,
   "metadata": {},
   "outputs": [],
   "source": [
    "SEASON = 'f12' # 1-14 old, f1 - f13\n",
    "PLAYLIST = 'ranked-doubles' # ranked-doubles, ranked-duels, ranked-standard\n",
    "COUNT = 200\n",
    "TIERS = range(21, 22) #(highest tier = 21)\n",
    "PRO = 'true'\n",
    "\n",
    "RATE_LIMIT_PER_HOUR = 490\n",
    "\n",
    "env = Env()\n",
    "env.read_env('.env')\n",
    "TOKEN = os.environ[\"TEST_TOKEN\"] # Ballchasing token\n",
    "HEADERS = {\"Authorization\": TOKEN}\n",
    "URL = \"https://ballchasing.com/api/replays\""
   ]
  },
  {
   "cell_type": "code",
   "execution_count": 40,
   "metadata": {},
   "outputs": [],
   "source": [
    "cluster = pymongo.MongoClient(\"mongodb://localhost:27017/\")\n",
    "database = cluster.get_database(\"rl_replays\")"
   ]
  },
  {
   "cell_type": "code",
   "execution_count": 41,
   "metadata": {},
   "outputs": [],
   "source": [
    "ranks = [\n",
    "    \"bronze-1\",\n",
    "    \"bronze-2\",\n",
    "    \"bronze-3\",\n",
    "    \"silver-1\",\n",
    "    \"silver-2\",\n",
    "    \"silver-3\",\n",
    "    \"gold-1\",\n",
    "    \"gold-2\",\n",
    "    \"gold-3\",\n",
    "    \"platinum-1\",\n",
    "    \"platinum-2\",\n",
    "    \"platinum-3\",\n",
    "    \"diamond-1\",\n",
    "    \"diamond-2\",\n",
    "    \"diamond-3\",\n",
    "    \"champion-1\",\n",
    "    \"champion-2\",\n",
    "    \"champion-3\",\n",
    "    \"grand-champion-1\",\n",
    "    \"grand-champion-2\",\n",
    "    \"grand-champion-3\",\n",
    "    \"supersonic-legend\"\n",
    "]"
   ]
  },
  {
   "cell_type": "code",
   "execution_count": 42,
   "metadata": {},
   "outputs": [
    {
     "name": "stdout",
     "output_type": "stream",
     "text": [
      "Time expected: 0hrs 24min 29sec\n",
      "Starting supersonic-legend[21] rank\n"
     ]
    },
    {
     "name": "stderr",
     "output_type": "stream",
     "text": [
      "supersonic-legend[21]: 100%|██████████| 200/200 [07:58<00:00,  2.39s/it]\n"
     ]
    },
    {
     "name": "stdout",
     "output_type": "stream",
     "text": [
      "Finished supersonic-legend[21] rank\n",
      "Finished\n"
     ]
    }
   ],
   "source": [
    "delay = 3600 / RATE_LIMIT_PER_HOUR\n",
    "time_exp = delay * COUNT * len(TIERS)\n",
    "\n",
    "print(\n",
    "    f\"Time expected: {int(time_exp/3600)}hrs {int((time_exp%3600)/60)}min {int((time_exp%3600)%60)}sec\"\n",
    ")\n",
    "\n",
    "for tier in TIERS:\n",
    "    rank = ranks[tier]\n",
    "    print(f\"Starting {rank}[{tier}] rank\")\n",
    "\n",
    "    filters = {\"count\": COUNT, \"playlist\": PLAYLIST, \"min-rank\": rank, \"max-rank\": rank, 'season': SEASON, 'pro': PRO}\n",
    "\n",
    "    response = requests.get(URL, headers=HEADERS, params=filters)\n",
    "    \n",
    "    if response.status_code != 200:\n",
    "        print(f\"Error: {response.status_code}\")\n",
    "        break\n",
    "\n",
    "    replays = response.json()[\"list\"]\n",
    "    data = tqdm(replays, desc=f\"{rank}[{tier}]\")\n",
    "    for replay in data:\n",
    "        replay_url = replay[\"link\"]\n",
    "\n",
    "        response = requests.get(replay_url, headers=HEADERS)\n",
    "        if response.status_code != 200: continue\n",
    "\n",
    "        replay_data = response.json()\n",
    "        replay_id = replay_data[\"id\"]\n",
    "\n",
    "        if database.replays.find_one({\"id\": replay_id}): continue\n",
    "\n",
    "        database.replays.insert_one(replay_data)\n",
    "        time.sleep(delay)\n",
    "\n",
    "    print(f\"Finished {rank}[{tier}] rank\")\n",
    "    time.sleep(delay)\n",
    "\n",
    "print(\"Finished\")"
   ]
  },
  {
   "cell_type": "code",
   "execution_count": 43,
   "metadata": {},
   "outputs": [],
   "source": [
    "# rank = ranks[0]\n",
    "# filters = {\"count\": COUNT, \"playlist\": PLAYLIST, \"min-rank\": rank, \"max-rank\": rank, 'season': SEASON, 'pro': 'true'}\n",
    "# response = requests.get(URL, headers=HEADERS, params=filters)\n",
    "# replays = response.json()[\"list\"]\n",
    "# print(f\"Total replays: {len(replays)}\")\n",
    "# replay = replays[0]\n",
    "# replay"
   ]
  }
 ],
 "metadata": {
  "kernelspec": {
   "display_name": "Python 3",
   "language": "python",
   "name": "python3"
  },
  "language_info": {
   "codemirror_mode": {
    "name": "ipython",
    "version": 3
   },
   "file_extension": ".py",
   "mimetype": "text/x-python",
   "name": "python",
   "nbconvert_exporter": "python",
   "pygments_lexer": "ipython3",
   "version": "3.11.1"
  }
 },
 "nbformat": 4,
 "nbformat_minor": 2
}
