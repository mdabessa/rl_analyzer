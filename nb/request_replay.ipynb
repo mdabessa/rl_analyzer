{
 "cells": [
  {
   "cell_type": "code",
   "execution_count": 34,
   "id": "940c3c45",
   "metadata": {},
   "outputs": [],
   "source": [
    "import os\n",
    "import sys\n",
    "\n",
    "sys.path.append(os.path.join(os.path.dirname(sys.path[0])))"
   ]
  },
  {
   "cell_type": "code",
   "execution_count": 35,
   "id": "83f3cd02",
   "metadata": {},
   "outputs": [],
   "source": [
    "from environs import Env\n",
    "import requests\n",
    "import json"
   ]
  },
  {
   "cell_type": "code",
   "execution_count": 36,
   "id": "2996113a",
   "metadata": {},
   "outputs": [],
   "source": [
    "env = Env()\n",
    "env.read_env('../.env')\n",
    "\n",
    "token = env(\"TEST_TOKEN\")"
   ]
  },
  {
   "cell_type": "code",
   "execution_count": 37,
   "id": "bf996f4c",
   "metadata": {},
   "outputs": [],
   "source": [
    "# replay = '9ee85d3a-1011-4d76-ada0-2f1efca805f6'\n",
    "# response = requests.get(\n",
    "#     f\"http://127.0.0.1:8000/replay/{replay}\",\n",
    "#     headers={\"Authorization\": token}\n",
    "# )\n",
    "\n",
    "# print(response.status_code)"
   ]
  },
  {
   "cell_type": "code",
   "execution_count": 38,
   "id": "5f00fdf1",
   "metadata": {},
   "outputs": [
    {
     "name": "stdout",
     "output_type": "stream",
     "text": [
      "200\n"
     ]
    }
   ],
   "source": [
    "response = requests.get(\n",
    "    f\"http://127.0.0.1:8000/last\",\n",
    "    headers={\"Authorization\": token}\n",
    ")\n",
    "\n",
    "print(response.status_code)"
   ]
  },
  {
   "cell_type": "code",
   "execution_count": 39,
   "id": "b9d98d2a",
   "metadata": {},
   "outputs": [],
   "source": [
    "response = response.json()"
   ]
  },
  {
   "cell_type": "code",
   "execution_count": 40,
   "id": "a92b26dc",
   "metadata": {},
   "outputs": [],
   "source": [
    "with open('../src/constants.json', 'r') as f:\n",
    "    constants = json.load(f)\n",
    "    ranks = constants['ranks']"
   ]
  },
  {
   "cell_type": "code",
   "execution_count": 41,
   "id": "8c421c66",
   "metadata": {},
   "outputs": [
    {
     "name": "stdout",
     "output_type": "stream",
     "text": [
      "Rank prediction: diamond-2\n",
      "Real rank: diamond-1\n",
      "=*==*==*==*==*==*==*==*==*==*==*==*==*==*==*==*==*==*==*==*=\n",
      "Team: blue\n",
      "\tguh. | grand-champion-2 | [Analyzer MVP]\n",
      "\tBlackSkol | diamond-3 | []\n",
      "\tFR4C2R | gold-2 | []\n",
      "Team: orange\n",
      "\tR1_Kyrat | diamond-2 | [MVP, Winner, Striker]\n",
      "\tjosplay7 | diamond-1 | [Winner, Goalkeaper]\n",
      "\tThaz | diamond-3 | [Winner, Playmaker]\n"
     ]
    }
   ],
   "source": [
    "print('Rank prediction:', ranks[response['predict']['tier'] + 1])\n",
    "print('Real rank:', response['min_rank']['id'])\n",
    "print('=*='*20)\n",
    "for team in ['blue', 'orange']:\n",
    "    print('Team:', team)\n",
    "    team = response[team]\n",
    "    for player in team['players']:\n",
    "        predict = player['predict']\n",
    "        tags = \", \".join([x['name'] for x in player[\"predict\"][\"tags\"]])\n",
    "        print(f'\\t{player[\"name\"]} | {ranks[player[\"predict\"][\"tier\"] + 1]} | [{tags}]')\n"
   ]
  }
 ],
 "metadata": {
  "kernelspec": {
   "display_name": ".venv",
   "language": "python",
   "name": "python3"
  },
  "language_info": {
   "codemirror_mode": {
    "name": "ipython",
    "version": 3
   },
   "file_extension": ".py",
   "mimetype": "text/x-python",
   "name": "python",
   "nbconvert_exporter": "python",
   "pygments_lexer": "ipython3",
   "version": "3.10.11"
  }
 },
 "nbformat": 4,
 "nbformat_minor": 5
}
